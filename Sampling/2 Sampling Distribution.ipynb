{
 "cells": [
  {
   "cell_type": "markdown",
   "metadata": {},
   "source": [
    "# Распределение выборки\n",
    "(Sampling Distributions)\n",
    "\n",
    "Как мы могли заметить, каждый раз при выборке данных из популяции, мы всегда получаем раздичные средние значения выборки.\n",
    "\n",
    "Для того чтобы понять как много разных значений мы можем ожидать мы можем сделать следующее:\n",
    "- Возьмите несколько случайных рыб одинакового размера (в данном примере будем брать по 50)\n",
    "- Рассчитайте среднее значение выборки для каждого набора\n",
    "- Сформируйте гистограмму для всех средних значений наборов"
   ]
  },
  {
   "cell_type": "code",
   "execution_count": 1,
   "metadata": {},
   "outputs": [],
   "source": [
    "# импортируем библиотки\n",
    "import numpy as np\n",
    "import pandas as pd\n",
    "import matplotlib.pyplot as plt\n",
    "import seaborn as sns\n",
    "\n",
    "# записываем данные из файла\n",
    "population = pd.read_csv('cod_population.csv')\n",
    "population = population.Cod_Weight\n",
    "\n",
    "# Определяем размер выборки\n",
    "sample_size = 50\n",
    "# создаем список в который будут добавляться средние значения выборок\n",
    "sample_means = []\n",
    "\n",
    "# "
   ]
  }
 ],
 "metadata": {
  "kernelspec": {
   "display_name": "Python 3",
   "language": "python",
   "name": "python3"
  },
  "language_info": {
   "codemirror_mode": {
    "name": "ipython",
    "version": 3
   },
   "file_extension": ".py",
   "mimetype": "text/x-python",
   "name": "python",
   "nbconvert_exporter": "python",
   "pygments_lexer": "ipython3",
   "version": "3.12.5"
  }
 },
 "nbformat": 4,
 "nbformat_minor": 2
}
