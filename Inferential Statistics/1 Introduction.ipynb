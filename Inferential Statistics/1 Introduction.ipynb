{
 "cells": [
  {
   "cell_type": "markdown",
   "metadata": {},
   "source": [
    "# One-sample T-Tests in scipy\n",
    "\n",
    "One-sample t-tests используется для сопоставления среднее значение выборки и среднее значение гипететической популяции. Например, one-sample t-test может быть использован для того чтобы ответить на вопросы такие как:\n",
    "- действительно ли среднее время проведенное пользователем сайта отличается от 5 минут?\n",
    "- действительно ли среднее кол-во денег которые покупатели тратят на покупки более 10 долларов?\n",
    "\n",
    "Как пример, давайте представим выдуманный бизнес и назовем его BuyPie, компания занимается тем что отправляет ингридиенты для пирогов покупаетелем что они сами могут приготовить его дома. Предположим что продуктовый менеджер BuyPie хочет чтобы средний чек вырос до 1000 рупиев в среднем. За прошлый день, 50 человек сделали онлайн покупки и их средний чек составил сумму меньше 1000 рупиев. Действительно ли покупатели потратили в среднем меньше 1000 рупиев на покупку? Или же это результат случайности и проблема малого размера выборки?"
   ]
  },
  {
   "cell_type": "code",
   "execution_count": 3,
   "metadata": {},
   "outputs": [
    {
     "name": "stdout",
     "output_type": "stream",
     "text": [
      "[ 978. 1080.  999.  855. 1105.  961.  899. 1061.  880. 1455.  505.  936.\n",
      " 1024.  982.  840.  930.  829.  504.  955. 1380. 1361. 1130.  946.  973.\n",
      " 1076. 1131.  810.  734. 1275.  867.  962.  865.  709. 1216.  735.  768.\n",
      "  757. 1060.  715.  839.  999. 1259. 1194. 1082. 1129. 1255.  931. 1236.\n",
      "  921.  907.]\n"
     ]
    }
   ],
   "source": [
    "# импортируем библиотеки\n",
    "import numpy as np\n",
    "# запишем данные в переменную\n",
    "prices = np.genfromtxt('datasets/prices.csv')\n",
    "# посмотри что находится внутри\n",
    "print(prices)"
   ]
  },
  {
   "cell_type": "code",
   "execution_count": 5,
   "metadata": {},
   "outputs": [
    {
     "name": "stdout",
     "output_type": "stream",
     "text": [
      "980.0\n"
     ]
    }
   ],
   "source": [
    "# давайте расчитаем среднее значение набора данных\n",
    "prices_mean = np.mean(prices)\n",
    "# выведем значение\n",
    "print(prices_mean)"
   ]
  },
  {
   "cell_type": "markdown",
   "metadata": {},
   "source": [
    "## Составим гипотезы\n",
    "- Нулевая гипотеза: Среднее значение чека 1000 рупи\n",
    "- Альтернативная: Среднее значение чека не 1000 рупи\n",
    "\n",
    "Для того чтобы провести T-Test можно воспользоваться библиотекой scipy в которой содержится метод ttest_1samp(), который позволяет произвести тестирование one-sample t-test.\n",
    "\n",
    "Данный метод принимает на вход два параметра:\n",
    "- распределение выборки (список значений prices)\n",
    "- и среднее для проверки\n",
    "\n",
    "Метод будет возвращаться кортеж из двух значений:\n",
    "- tstat\n",
    "- pval\n",
    "\n",
    "Метод использует распределение выборки чтобы определить размер выборки и определить величину вариации всей популяции, что позволит определить нулевое распределение."
   ]
  },
  {
   "cell_type": "code",
   "execution_count": 6,
   "metadata": {},
   "outputs": [
    {
     "name": "stdout",
     "output_type": "stream",
     "text": [
      "[ 978. 1080.  999.  855. 1105.  961.  899. 1061.  880. 1455.  505.  936.\n",
      " 1024.  982.  840.  930.  829.  504.  955. 1380. 1361. 1130.  946.  973.\n",
      " 1076. 1131.  810.  734. 1275.  867.  962.  865.  709. 1216.  735.  768.\n",
      "  757. 1060.  715.  839.  999. 1259. 1194. 1082. 1129. 1255.  931. 1236.\n",
      "  921.  907.]\n",
      "Среднее значение набора данных: 980.0\n"
     ]
    }
   ],
   "source": [
    "# импортируем библиотеку\n",
    "import scipy.stats as stats\n",
    "import numpy as np\n",
    "\n",
    "# запишем данные в переменную\n",
    "prices = np.genfromtxt('datasets/prices.csv')\n",
    "# отобразим значение переменной\n",
    "print(prices)\n",
    "# рассчитаем среднее значние популяции\n",
    "prices_mean = np.mean(prices)\n",
    "# выведем значением среднего\n",
    "print(f'Среднее значение набора данных: {prices_mean}')"
   ]
  },
  {
   "cell_type": "code",
   "execution_count": 8,
   "metadata": {},
   "outputs": [
    {
     "name": "stdout",
     "output_type": "stream",
     "text": [
      "0.4920744804182786\n"
     ]
    }
   ],
   "source": [
    "# расчитаем значение pval для двух гипотез\n",
    "tstat, pval = stats.ttest_1samp(prices, 1000)\n",
    "print(pval)"
   ]
  },
  {
   "cell_type": "markdown",
   "metadata": {},
   "source": [
    "## Предположение на основе One Sample T-Test\n",
    "\n",
    "Когда проводится тестирование любой гипотезы, очень важно знать и верифицировать допустимые значения теста. Допустимые значения для One-Sample T-Test следующие:\n",
    "\n",
    "- Выборка величин должна быть случайной и должна быть выбрана из популяции\n",
    "    - Например, если вы собираете данные только о посетителях сайта кто согласен делится своей персональной информацией, это не является случайным выбором посетителей сайта и может отличаться от большей популяции\n",
    "- Личные наблюдения должны быть независимыми\n",
    "    - Например, если один посетитель BuyPie любит яблочный пирог он купит так много и что даже убедил своего друга тоже купить один наборЮ, данное наблюдение не является независимым.\n",
    "- Данные должны быть распределены нормально без выбросов или аномальных значений или размер набора данных должен быть достаточно большим\n",
    "    - Не существует определенного правила по которому нужно отбирать размер выборки, но стандартным размером считается 40 значений. Например выборку из менее чем 40 значений, или даже еще меньше есть смысл отрисовать на гистограмме чтобы проверить часто ли попадают выбросы в выборку, если да то в таком случае one-sample t-test не предпочтителен\n"
   ]
  },
  {
   "cell_type": "code",
   "execution_count": 9,
   "metadata": {},
   "outputs": [
    {
     "data": {
      "image/png": "[encoded data removed]",
      "text/plain": [
       "<Figure size 640x480 with 1 Axes>"
      ]
     },
     "metadata": {},
     "output_type": "display_data"
    },
    {
     "data": {
      "text/plain": [
       "<Figure size 640x480 with 0 Axes>"
      ]
     },
     "metadata": {},
     "output_type": "display_data"
    }
   ],
   "source": [
    "# импортируем библиотеки\n",
    "import numpy as np\n",
    "import matplotlib.pyplot as plt\n",
    "\n",
    "# записываем данные в переменную\n",
    "prices = np.genfromtxt('datasets/prices.csv')\n",
    "\n",
    "# сформируем гистограмму\n",
    "plt.hist(prices)\n",
    "plt.show()\n",
    "plt.clf()"
   ]
  }
 ],
 "metadata": {
  "kernelspec": {
   "display_name": "Python 3",
   "language": "python",
   "name": "python3"
  },
  "language_info": {
   "codemirror_mode": {
    "name": "ipython",
    "version": 3
   },
   "file_extension": ".py",
   "mimetype": "text/x-python",
   "name": "python",
   "nbconvert_exporter": "python",
   "pygments_lexer": "ipython3",
   "version": "3.12.5"
  }
 },
 "nbformat": 4,
 "nbformat_minor": 2
}
