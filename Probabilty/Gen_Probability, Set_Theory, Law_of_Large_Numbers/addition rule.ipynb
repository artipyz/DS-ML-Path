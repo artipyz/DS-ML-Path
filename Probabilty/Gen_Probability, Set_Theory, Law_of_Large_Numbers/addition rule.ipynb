{
 "cells": [
  {
   "cell_type": "markdown",
   "metadata": {},
   "source": [
    "# Правило сложения вероятностей\n",
    "\n",
    "В данном разделе будет рассмотренно сложение вероятностей событий\n",
    "\n",
    "Пример:\n",
    "- Событие A - нечетное число при броске игральной кости\n",
    "- Событие B - число больше 2 при броске игральной кости\n",
    "\n",
    "Задача:\n",
    "- Расчитать вероятность возникновения каждого события по отдельности\n",
    "- Расчитать вероятность возникновения двух событий одновременно"
   ]
  },
  {
   "cell_type": "markdown",
   "metadata": {},
   "source": [
    "## Решение\n",
    "\n",
    "Для нахождения вероятности возникновения событий по отдельности используется формула объединения событий которая рассчитывается как\n",
    "\n",
    "```\n",
    "P(A or B) = P(A) + P(B) - P(A and B)\n",
    "```\n",
    "\n",
    "Другими словами вероятность возникновения каждого события по отдельности это\n",
    "\n",
    "**Сумма вероятностей каждого события и вычитание пересечения событий**\n",
    "\n",
    "Мы вычитаем пересечение событий так как оно дважды появляется в каждой событии по отдельности"
   ]
  },
  {
   "cell_type": "markdown",
   "metadata": {},
   "source": [
    "## А что если два события были бы взаимоисключающими\n",
    "(**Mutually Exclusive**)\n",
    "\n",
    "В таком случае формула выглядела бы так\n",
    "\n",
    "```\n",
    "P(A or B) = P(A) + P(B)\n",
    "```\n",
    "\n",
    "В таком случае мы не отнимаем пересечение двух событий так как его нет"
   ]
  },
  {
   "cell_type": "markdown",
   "metadata": {},
   "source": [
    "# Python"
   ]
  },
  {
   "cell_type": "code",
   "execution_count": 1,
   "metadata": {},
   "outputs": [],
   "source": [
    "# Напишем функцию которая позволит нам выявить вероятность возникновения каждого события по отдельности\n",
    "def prob_a_or_b(a, b, all_possible_outcomes):\n",
    "    # a - 1 событие\n",
    "    # b - 2 событие\n",
    "    # Возможные значения\n",
    "    # Вероятность события A и B рассичитывается как отношение кол-ва значений события к общему кол-ву возможных значений\n",
    "    prob_a = len(a)/len(all_possible_outcomes)\n",
    "    prob_b = len(b)/len(all_possible_outcomes)\n",
    "    # Найдем пересечение значений множеств\n",
    "    inter = a.intersection(b)\n",
    "    # Расчитаем вероятность события в пересечении\n",
    "    prob_inter = len(inter)/len(all_possible_outcomes)\n",
    "    # Возвращаем значение вероятности возникновения событий по отдельности\n",
    "    return prob_a + prob_b - prob_inter"
   ]
  },
  {
   "cell_type": "code",
   "execution_count": 2,
   "metadata": {},
   "outputs": [
    {
     "name": "stdout",
     "output_type": "stream",
     "text": [
      "1.0\n"
     ]
    }
   ],
   "source": [
    "# Первый эксперимент\n",
    "# Бросаем игральную кость с 6-ю гранями\n",
    "# Первое событие проверяет является ли значение четным\n",
    "# Второе событие проверяет является ли значение не четным\n",
    "evens = {2,4,6}\n",
    "odds = {1,3,5}\n",
    "all_possible_rolls = {1,2,3,4,5,6}\n",
    "\n",
    "print(prob_a_or_b(evens, odds, all_possible_rolls))"
   ]
  },
  {
   "cell_type": "markdown",
   "metadata": {},
   "source": [
    "## Результат первого эксперимента\n",
    "Получили 100% вероятность того что произойдет хотя бы одно событие из двух\n",
    "\n",
    "И правда при любом кол-ве бросков значение будет либо четным либо не четным"
   ]
  },
  {
   "cell_type": "code",
   "execution_count": 5,
   "metadata": {},
   "outputs": [
    {
     "name": "stdout",
     "output_type": "stream",
     "text": [
      "0.8333333333333333\n"
     ]
    }
   ],
   "source": [
    "# Второй эксперимент\n",
    "# Бросаем игральную кость\n",
    "# Первое событие значение будет не четным\n",
    "# Второе событие значение будет больше 2\n",
    "\n",
    "odds = {1,3,5}\n",
    "greater_than_two = {3,4,5,6}\n",
    "all_possible_rolls = {1,2,3,4,5,6}\n",
    "\n",
    "print(prob_a_or_b(odds, greater_than_two, all_possible_rolls))"
   ]
  },
  {
   "cell_type": "markdown",
   "metadata": {},
   "source": [
    "## Результат второго эксперимента\n",
    "Получили вероятность возникновения хотя бы одного из событий равному 83%"
   ]
  },
  {
   "cell_type": "code",
   "execution_count": 6,
   "metadata": {},
   "outputs": [
    {
     "name": "stdout",
     "output_type": "stream",
     "text": [
      "0.4230769230769231\n"
     ]
    }
   ],
   "source": [
    "# Третий эксперимент\n",
    "# Вытягиваем карту\n",
    "# Первое событие масть карты буби\n",
    "# Второе событие лицевая сторона карты будет картинкой\n",
    "\n",
    "diamond_cards = {'ace_diamond', '2_diamond', '3_diamond', '4_diamond', '5_diamond', '6_diamond', '7_diamond', '8_diamond', '9_diamond', '10_diamond', 'jack_diamond', 'queen_diamond', 'king_diamond'}\n",
    "face_cards = {'jack_diamond', 'jack_spade', 'jack_heart', 'jack_club', 'queen_diamond', 'queen_spade', 'queen_heart', 'queen_club', 'king_diamond', 'king_spade', 'king_heart', 'king_club'}\n",
    "all_possible_cards = {'ace_diamond', '2_diamond', '3_diamond', '4_diamond', '5_diamond', '6_diamond', '7_diamond', '8_diamond', '9_diamond', '10_diamond', 'jack_diamond', 'queen_diamond', 'king_diamond', 'ace_heart', '2_heart', '3_heart', '4_heart', '5_heart', '6_heart', '7_heart', '8_heart', '9_heart', '10_heart', 'jack_heart', 'queen_heart', 'king_heart', 'ace_spade', '2_spade', '3_spade', '4_spade', '5_spade', '6_spade', '7_spade', '8_spade', '9_spade', '10_spade', 'jack_spade', 'queen_spade', 'king_spade', 'ace_club', '2_club', '3_club', '4_club', '5_club', '6_club', '7_club', '8_club', '9_club', '10_club', 'jack_club', 'queen_club', 'king_club'}\n",
    "\n",
    "print(prob_a_or_b(diamond_cards, face_cards, all_possible_cards))"
   ]
  },
  {
   "cell_type": "markdown",
   "metadata": {},
   "source": [
    "## Результат третьего эксперимента\n",
    "В результате получили вероятность возникновения хотя бы одного из событий равному 42%"
   ]
  }
 ],
 "metadata": {
  "kernelspec": {
   "display_name": "Python 3",
   "language": "python",
   "name": "python3"
  },
  "language_info": {
   "codemirror_mode": {
    "name": "ipython",
    "version": 3
   },
   "file_extension": ".py",
   "mimetype": "text/x-python",
   "name": "python",
   "nbconvert_exporter": "python",
   "pygments_lexer": "ipython3",
   "version": "3.12.5"
  }
 },
 "nbformat": 4,
 "nbformat_minor": 2
}
