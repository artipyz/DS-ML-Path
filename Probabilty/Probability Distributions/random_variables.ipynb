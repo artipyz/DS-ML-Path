{
 "cells": [
  {
   "cell_type": "markdown",
   "metadata": {},
   "source": [
    "# Задача\n",
    "Напишите код который имитирует бросок игральной кости с 6 гранями\n",
    "Напишите код который имитирует бросок игральной кости с 12 гранями"
   ]
  },
  {
   "cell_type": "code",
   "execution_count": 2,
   "metadata": {},
   "outputs": [
    {
     "name": "stdout",
     "output_type": "stream",
     "text": [
      "[3 6 5 4 4]\n"
     ]
    }
   ],
   "source": [
    "# Игральная кость с 6 гранями\n",
    "# импортируем библиотеку\n",
    "import numpy as np\n",
    "\n",
    "dies_6 = range(1,7)\n",
    "\n",
    "num_rolls = 5\n",
    "\n",
    "results_1 = np.random.choice(dies_6, size=num_rolls, replace=True)\n",
    "print(results_1)"
   ]
  },
  {
   "cell_type": "code",
   "execution_count": 3,
   "metadata": {},
   "outputs": [
    {
     "name": "stdout",
     "output_type": "stream",
     "text": [
      "[ 8  4 10  9  8  9 10  5  3  1]\n"
     ]
    }
   ],
   "source": [
    "# Играть кость с 12 гранями\n",
    "dies_12 = range(1,13)\n",
    "num_rolls = 10\n",
    "\n",
    "results_2 = np.random.choice(dies_12, size=num_rolls, replace=True)\n",
    "print(results_2)"
   ]
  }
 ],
 "metadata": {
  "kernelspec": {
   "display_name": "Python 3",
   "language": "python",
   "name": "python3"
  },
  "language_info": {
   "codemirror_mode": {
    "name": "ipython",
    "version": 3
   },
   "file_extension": ".py",
   "mimetype": "text/x-python",
   "name": "python",
   "nbconvert_exporter": "python",
   "pygments_lexer": "ipython3",
   "version": "3.12.5"
  }
 },
 "nbformat": 4,
 "nbformat_minor": 2
}
