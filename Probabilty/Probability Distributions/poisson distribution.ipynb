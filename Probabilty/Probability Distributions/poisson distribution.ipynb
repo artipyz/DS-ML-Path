{
 "cells": [
  {
   "cell_type": "markdown",
   "metadata": {},
   "source": [
    "# Распределение Пуассона\n",
    "Poisson Distribution\n",
    "\n",
    "Как уже было сказанно существует множество распределений вероятностей, используемых для представления практически любого случайного события. Ранее мы познакомились с биномильным распределением для представления событий с дискретными величинами. Binom\n",
    "\n",
    "А также нормальном распределении используемым для непрерывных числовый значений. Norm\n",
    "\n",
    "Распределение Пуассона - это еще одно распространенное распределение, которое используется для описания кол-ва появления определенного события в течении фиксированного временного или пространственного интервала.\n",
    "\n",
    "Например: Подобное распределение можно использовать для описания кол-ва автомобилей, проезжающих через определенный перекресток между 4 и 5 часами вечера в определенный день. Его также можно использовать для описания кол-ва звонков, полученных в офисе между часом и тремя часами для в определенный день.\n",
    "\n",
    "Распределение Пуассона определяется параметром скорости, которую обозначают греческой буквой **лямбда**\n",
    "\n",
    "**Лямбда** представляет собой ожидаемое значение - или среднее значение - распределения. Например, если наше ожидаемое число клиентов между 13:00 и 14:00 равно 7, то мы установим параметр для распределения Пуассона равным 7. PMF (Probability Mass Function) для распределения Пуассона будет выглядеть следующим образом \n",
    "\n",
    "![Poisson Distribution](Poisson%20distribution.png)\n",
    "\n",
    "Чем выше значение **лямбда** тем выше дисперсия (разброс) возможных значений"
   ]
  },
  {
   "cell_type": "markdown",
   "metadata": {},
   "source": [
    "## Расчет вероятности точных значений с использованием PMF\n",
    "\n",
    "Для расчета вероятности по распределению Пуассона используется PMF (Probability Mass Functions)\n",
    "\n",
    "Который находится в модуле poisson библиотеки scipy.stats\n",
    "\n",
    "Например предположим что мы ожидаем что в течении следующих 30 дней будет идти дождь 10 раз, получается что лямбда равна 10.\n",
    "\n",
    "Мы можем рассчитать вероятность дождя на 6 день учитывая лямбду 10"
   ]
  },
  {
   "cell_type": "code",
   "execution_count": 17,
   "metadata": {},
   "outputs": [
    {
     "name": "stdout",
     "output_type": "stream",
     "text": [
      "0.06305545800345125\n"
     ]
    }
   ],
   "source": [
    "# импортируем библиотеку\n",
    "import scipy.stats as stats\n",
    "\n",
    "print(stats.poisson.pmf(6, 10))"
   ]
  },
  {
   "cell_type": "markdown",
   "metadata": {},
   "source": [
    "Как и в предыдущей функции вероятностной массы дискретных случайных величин, отдельные вероятности можно суммировать, чтобы найти вероятность наблюдения значения в некотром диапазоне.\n",
    "\n",
    "Например, если мы ожидаем, что в течение следующих 30 дней будет 10 дождей, то кол-во дождей в течении следующих 30 дней будет распределено по закону Пуассона с **лямбда** = 10. Мы можем рассчитать вероятность дождя в период с 12 по 14 дни следующим образом."
   ]
  },
  {
   "cell_type": "code",
   "execution_count": 18,
   "metadata": {},
   "outputs": [
    {
     "name": "stdout",
     "output_type": "stream",
     "text": [
      "0.21976538076223123\n"
     ]
    }
   ],
   "source": [
    "# импортируем библиотеку\n",
    "import scipy.stats as stats\n",
    "\n",
    "print(stats.poisson.pmf(12, 10) + stats.poisson.pmf(13, 10) + stats.poisson.pmf(14, 10))\n",
    "\n",
    "# Таким образом вероятность дождя в период с 12 по 14 дней равна 21.9%"
   ]
  },
  {
   "cell_type": "markdown",
   "metadata": {},
   "source": [
    "## Расчет вероятностей диапазона с использование CDF (Cumulative Distribution Function)\n",
    "\n",
    "Мы можем использовать poisson.cdf() метод, scipy.stats библиотеки для оценки вероятности наблюдения определенного числа или меньше, учитывая ожидаемое значение распределения.\n",
    "\n",
    "Например если мы хотим рассчитать вероятность наблюдения 6 или меньше дождевых дней в течении следующих 30 дней, когда мы ожидали 10, мы могли бы сделать следующее"
   ]
  },
  {
   "cell_type": "code",
   "execution_count": 4,
   "metadata": {},
   "outputs": [
    {
     "name": "stdout",
     "output_type": "stream",
     "text": [
      "0.13014142088248304\n"
     ]
    }
   ],
   "source": [
    "import scipy.stats as stats\n",
    "\n",
    "print(stats.poisson.cdf(6, 10))\n",
    "\n",
    "# Получается что вероятность дождливых дней от 0 до 6 при ожидаемых 10 равна 13% "
   ]
  },
  {
   "cell_type": "markdown",
   "metadata": {},
   "source": [
    "Также как и в предыдущих функциях мы можем производить математические действия с вероятности для вычисления вероятности в диапазоне"
   ]
  },
  {
   "cell_type": "code",
   "execution_count": 6,
   "metadata": {},
   "outputs": [
    {
     "name": "stdout",
     "output_type": "stream",
     "text": [
      "0.30322385369689386\n",
      "0.29603734909303947\n"
     ]
    }
   ],
   "source": [
    "print(1 - stats.poisson.cdf(11, 10))\n",
    "\n",
    "# Таким образом получили что с вероятностью 30% осадки выпадут кол-ом в диапазоне от 12 до 30 дней\n",
    "# Также для расчета вероятности что осадки в течении 30 дней будут в кол-ве дипазона от 12 до 18 раз\n",
    "\n",
    "print(stats.poisson.cdf(18, 10) - stats.poisson.cdf(11, 10))\n",
    "\n",
    "# Вероятность выавдения осадков в кол-ве от 12 до 18 раз за 30 дней равна 29.6%"
   ]
  },
  {
   "cell_type": "markdown",
   "metadata": {},
   "source": [
    "## Ожидание распределение Пуассона\n",
    "\n",
    "Как уже говорилось ранее распределение Пуассона используется параметр называемый лямбой что по сути своей обозначает ожидаемое значение (или среднее).\n",
    "\n",
    "Давайте более подробно рассмотрим данное понятие на примере.\n",
    "\n",
    "Предположим что мы продавцы, и после многих недель работы мы выявили что наш средний показатель составляет 10 продаж в неделю. Если мы возьмем данное значение в качестве ожидаемого значения распределения Пуассона, функция массы вероятности будет иметь вид.\n",
    "\n",
    "![lambda example](poisson%20destribution%20labda%20measuring.png)\n",
    "\n",
    "Самый высокий столбец на диаграмме представляет значение с наибольшей вероятностью возникновения. В данном случае самый высокий столбец равен 10. Однако это не говорит нам о 100% вероятности мы сделаем 10 продаж. Это означает что в среднем по всем неделям мы ожидаем, что наше среднее значение будет равно примерно 10 продажам за неделю.\n",
    "\n",
    "Давайте рассмотрим ситуацию с другой стороны. Возьмем выборку из 1000 случайных значений из распределения Пуассона с ожидаемым значением 10. Для этого мы можем использоваться метод rvs() библиотеки scipy.stats используемый для генерации случайных значений"
   ]
  },
  {
   "cell_type": "code",
   "execution_count": 12,
   "metadata": {},
   "outputs": [
    {
     "data": {
      "image/png": "[encoded data removed]",
      "text/plain": [
       "<Figure size 640x480 with 1 Axes>"
      ]
     },
     "metadata": {},
     "output_type": "display_data"
    }
   ],
   "source": [
    "import scipy.stats as stats\n",
    "import matplotlib.pyplot as plt\n",
    "import seaborn as sns\n",
    "\n",
    "rvs = stats.poisson.rvs(10, size = 1000)\n",
    "sns.histplot(rvs)\n",
    "plt.show()\n",
    "plt.close()"
   ]
  },
  {
   "cell_type": "markdown",
   "metadata": {},
   "source": [
    "Таким образом можно заметить что наибольшие значения находятся очень близко к 10\n",
    "\n",
    "И если мы возьмем среднее значение переменной RVS то получим"
   ]
  },
  {
   "cell_type": "code",
   "execution_count": 13,
   "metadata": {},
   "outputs": [
    {
     "name": "stdout",
     "output_type": "stream",
     "text": [
      "10.123\n"
     ]
    }
   ],
   "source": [
    "print(rvs.mean())\n",
    "# Значение приближенное к 10"
   ]
  },
  {
   "cell_type": "markdown",
   "metadata": {},
   "source": [
    "## Итог\n",
    "Таким образом когда мы говорим об ожидаемом значении, мы имеем ввиду среднее значение по многим наблюдениям. Это связанно с законом больших чисел: чем больше у нас образцов, тем больше вероятность, что образцы будут напоминать истинную совокупность, а среднее значение образцов будет приближаться к ожидаемому значению. Таким образом даже если продавец может сделать 3 продажи в одну неделю, он может сделать 16 в следующую и 11 через неделю. В долгосрочной перспективе, после многих недель, ожидаемое значение (или среднее) все еще будет равно 10."
   ]
  },
  {
   "cell_type": "code",
   "execution_count": 14,
   "metadata": {},
   "outputs": [
    {
     "data": {
      "image/png": "[encoded data removed]",
      "text/plain": [
       "<Figure size 640x480 with 1 Axes>"
      ]
     },
     "metadata": {},
     "output_type": "display_data"
    }
   ],
   "source": [
    "import scipy.stats as stats\n",
    "import matplotlib.pyplot as plt\n",
    "import numpy as np\n",
    "\n",
    "plt.hist(rvs, bins=np.arange(len(set(rvs)))-0.5, edgecolor='black')\n",
    "plt.xticks(list(range(rvs.max())))\n",
    "plt.show()"
   ]
  },
  {
   "cell_type": "markdown",
   "metadata": {},
   "source": [
    "## Распространение распределение Пуассона\n",
    "Распределение вероятностей также имеют вычисляемые отклонения.\n",
    "\n",
    "Отклонения это способ измерить распространение или дисперсию значений и вероятность в распределении.\n",
    "\n",
    "Для распределения Пуассона, отклонением является лямбда, которая обозначает ожидаемое значение и отклонение является эквивалентом в распределении Пуассона.\n",
    "\n",
    "Мы знаем что распределение Пуассона имеет дискретные случайные величины которые должны быть больше 0, таким образом если ожидаемое значение растет, кол-во возможных значений распределений также будет расти.\n",
    "\n",
    "График отображаемый ниже показывает распределение Пуассона с лямбдой равной 3, а следующий за ним график показывает распределение Пуассона с лямбой равной 15.\n",
    "\n",
    "Можно заметить что распределение выросло. Также обратите внимание что высота столбца на втором графике уменьшился хоть и увеличилось кол-во возможных значений в распределении.\n",
    "\n",
    "![1 Graph](1%20graph.png)\n",
    "\n",
    "![2 Graph](2%20graph.png)\n",
    "\n",
    "Мы можем расчитать отклонение используя метод var библиотеки np"
   ]
  },
  {
   "cell_type": "code",
   "execution_count": 19,
   "metadata": {},
   "outputs": [
    {
     "name": "stdout",
     "output_type": "stream",
     "text": [
      "4.021071\n"
     ]
    }
   ],
   "source": [
    "import scipy.stats as stats\n",
    "import numpy as np\n",
    "\n",
    "rvs_rand = stats.poisson.rvs(4, size=1000)\n",
    "print(np.var(rvs_rand))"
   ]
  },
  {
   "cell_type": "markdown",
   "metadata": {},
   "source": [
    "По причине того что расчты производились из набора, это вполне реально что отклонение не будет абсолютно равен лямбде.\n",
    "\n",
    "Другой способ чтобы посмотреть рост возможных значений это посмотреть на диапазон набора (минимальное и максимальное значение в множестве). Следующий набор содержит 1000 случайных значений в распределении Пуассона с лямбдой равно 4. Давайте отобразим максимальное и минимальное значение"
   ]
  },
  {
   "cell_type": "code",
   "execution_count": 23,
   "metadata": {},
   "outputs": [
    {
     "name": "stdout",
     "output_type": "stream",
     "text": [
      "0 13\n",
      "1 24\n"
     ]
    }
   ],
   "source": [
    "rvs_rand = stats.poisson.rvs(4, size=1000)\n",
    "print(rvs_rand.min(), rvs_rand.max())\n",
    "\n",
    "# Проделаем тоже с самой с лямбой равной 10\n",
    "rvs_rand = stats.poisson.rvs(10, size=1000)\n",
    "print(rvs_rand.min(), rvs_rand.max())"
   ]
  }
 ],
 "metadata": {
  "kernelspec": {
   "display_name": "Python 3",
   "language": "python",
   "name": "python3"
  },
  "language_info": {
   "codemirror_mode": {
    "name": "ipython",
    "version": 3
   },
   "file_extension": ".py",
   "mimetype": "text/x-python",
   "name": "python",
   "nbconvert_exporter": "python",
   "pygments_lexer": "ipython3",
   "version": "3.12.5"
  }
 },
 "nbformat": 4,
 "nbformat_minor": 2
}
