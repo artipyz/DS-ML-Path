{
 "cells": [
  {
   "cell_type": "markdown",
   "metadata": {},
   "source": [
    "# Зависимость между двумя категорийными переменными\n",
    "Для изучения процесса выявления зависимости между двумя категорийными переменными создан отдельный набор данных **npi_sample.csv**\n",
    "\n",
    "Данный набор даных представляет собой опрос с 5-ю вопросами\n",
    "\n",
    "Колонки набора данных (тип данных всех значений набора данных являются логическими, слева ответ положительный справа отрицательный):\n",
    "- influence - У меня есть талант влиять на людей / Я не очень хорошь во влиянии на людей\n",
    "- blend_in - Я предпочитаю сливаться с толпой / Я люблю быть в центре внимания\n",
    "- special - Я считаю себя особенным / Я не лучше и не хуже большинства людей\n",
    "- leader - Я считаю себя хорошим лидером / Я не уверен смог бы я стать хорошим лидером\n",
    "- authority - Мне нравится иметь авторитет над людьми / Я не против выполнять приказы\n",
    "\n",
    "Как можно догадаться ответы на некоторые вопросы могут быть связаны между собой. Например если кто-то считается себя хорошим лидером, мы могли бы заметить что также этот человек отмечал что он любить быть авторитетом \n",
    "\n",
    "Подробнее рассмотрим расчет показателей зависимостей между двумя категорийными переменными"
   ]
  },
  {
   "cell_type": "code",
   "execution_count": 1,
   "metadata": {},
   "outputs": [
    {
     "name": "stdout",
     "output_type": "stream",
     "text": [
      "  influence blend_in special leader authority\n",
      "0        no      yes     yes    yes       yes\n",
      "1        no      yes      no     no        no\n",
      "2       yes       no     yes    yes       yes\n",
      "3       yes       no      no    yes       yes\n",
      "4       yes      yes      no    yes        no\n"
     ]
    }
   ],
   "source": [
    "# Импортируем библиотеки\n",
    "import pandas as pd\n",
    "\n",
    "# Загрузим данные из файла\n",
    "npi = pd.read_csv('npi_sample.csv')\n",
    "# отобразим несколько первых строк\n",
    "print(npi.head())"
   ]
  },
  {
   "cell_type": "code",
   "execution_count": 7,
   "metadata": {},
   "outputs": [
    {
     "name": "stdout",
     "output_type": "stream",
     "text": [
      "authority    no   yes\n",
      "special              \n",
      "no         4069  1905\n",
      "yes        2229  2894\n"
     ]
    }
   ],
   "source": [
    "# Для расчета показателя формируется Таблица непредвиденных обстоятельств: частота (Contingency Tables: Frequencies)\n",
    "# Такую таблицу также называют кросс таблицей (cross-tabulations)\n",
    "# Такие таблицы очень полезы для получения сводной информации двух переменных одновременно\n",
    "# Чтобы создать такую таблицу используется метод библиотеки pandas crosstab\n",
    "# Данный метод принмиает два массивы данных\n",
    "print(pd.crosstab(npi.special, npi.authority))"
   ]
  },
  {
   "cell_type": "markdown",
   "metadata": {},
   "source": [
    "## Анализ таблицы\n",
    "Таблица показывает нам какое кол-во опрошенных людей:\n",
    "- ответили Да на оба вопроса\n",
    "- ответили Нет на оба вопроса\n",
    "- ответили Да на один из них\n",
    "\n",
    "Судя по значениям можно заметить что:\n",
    "- наибольшее кол-во людей ответили Нет на оба вопроса\n",
    "    - Люди не любят иметь авторитет\n",
    "    - И не считают себя особенными\n",
    "- И во второй колонке люди которые любят иметь авторитет считают себя особенными\n"
   ]
  },
  {
   "cell_type": "code",
   "execution_count": 8,
   "metadata": {},
   "outputs": [
    {
     "name": "stdout",
     "output_type": "stream",
     "text": [
      "authority        no       yes\n",
      "special                      \n",
      "no         0.366676  0.171668\n",
      "yes        0.200865  0.260791\n"
     ]
    }
   ],
   "source": [
    "# Но на основе цифр не всегда можно увидеть явную картину\n",
    "# В таком случае используют пропорции\n",
    "# Для того чтобы получить таблицу пропорций следует просто поделить каждое значение полученной таблицы поделить на общее кол-во записей в таблице\n",
    "print(pd.crosstab(npi.special, npi.authority) / len(npi))"
   ]
  },
  {
   "cell_type": "markdown",
   "metadata": {},
   "source": [
    "## Маржинальная пропорция\n",
    "По мимо вычисления обычной пропорции также для выявления зависимости расчитывают и маржинальную пропорцию\n",
    "\n",
    "### Что такое маржинальная пропорция?\n",
    "Маржинальной пропорцией называют сумму значений всех строк и столбцов по каждой категории\n",
    "\n",
    "Сделать это можно используя метод суммы sum() с параметром axis = 1\\0\n",
    "- где 0 это столбцы\n",
    "- а 1 то строки"
   ]
  },
  {
   "cell_type": "code",
   "execution_count": null,
   "metadata": {},
   "outputs": [
    {
     "name": "stdout",
     "output_type": "stream",
     "text": [
      "authority\n",
      "no     0.567541\n",
      "yes    0.432459\n",
      "dtype: float64\n",
      "special\n",
      "no     0.538344\n",
      "yes    0.461656\n",
      "dtype: float64\n"
     ]
    }
   ],
   "source": [
    "special_authority_prop = pd.crosstab(npi.special, npi.authority) / len(npi)\n",
    "authority_marginal = special_authority_prop.sum(axis=0)\n",
    "special_marginal = special_authority_prop.sum(axis=1)\n",
    "print(authority_marginal, special_marginal, sep='\\n')\n",
    "\n",
    "# Маржинальные пропорции каждой категории с ответами приблизительно равны\n",
    "# Что может сказать о наличии зависимости между двумя данными параметрами"
   ]
  },
  {
   "cell_type": "markdown",
   "metadata": {},
   "source": [
    "## Ожидаемая таблица вероятностей\n",
    "Ранее созданная таблица маржинальных пропорций в последующем будет использована для создания ожидаемой таблицы вероятностей\n",
    "\n",
    "Данная таблица позволит нам понят а существует ли вообще взаимосвязь между двумя категорийными переменными\n",
    "\n",
    "Для формирования данной таблицы используется отдельный метод библиотеки **scipy.stats** **chi2_contingency**\n",
    "\n",
    "Который принимает на вход таблицу возможных значений (crosstable)\n",
    "\n",
    "Данный метод возвращает кортеж из трех значений:\n",
    "- chi2 - параметр который информирует насколько сильно отличаются значения анализируемой таблицы и ожидаемой\n",
    "- pval\n",
    "- dof\n",
    "- expected - таблица ожидаемых вероятностных значений"
   ]
  },
  {
   "cell_type": "code",
   "execution_count": 19,
   "metadata": {},
   "outputs": [
    {
     "name": "stdout",
     "output_type": "stream",
     "text": [
      "authority    no   yes\n",
      "special              \n",
      "no         4069  1905\n",
      "yes        2229  2894\n",
      "[[3390. 2584.]\n",
      " [2908. 2215.]]\n"
     ]
    }
   ],
   "source": [
    "# загружаем метод из библиотеки\n",
    "from scipy.stats import chi2_contingency\n",
    "import numpy as np\n",
    "\n",
    "special_authority_freq = pd.crosstab(npi.special, npi.authority)\n",
    "\n",
    "chi2, pval, dof, expected = chi2_contingency(special_authority_freq)\n",
    "print(special_authority_freq)\n",
    "print(np.round(expected))\n",
    "\n",
    "# Чем более различные ожидаемые и анализируемые значения в таблицах\n",
    "# Тем БОЛЕЕ связанными являются переменные"
   ]
  },
  {
   "cell_type": "code",
   "execution_count": 20,
   "metadata": {},
   "outputs": [
    {
     "name": "stdout",
     "output_type": "stream",
     "text": [
      "679.1219526170606\n"
     ]
    }
   ],
   "source": [
    "# В зависимости от размера иследуемой таблицы (в нашем случае 2 х 2 = 4)\n",
    "print(chi2)\n",
    "# Чем больше значение chi2 чем площадь исследуемой таблицы тем сильнее зависимость между иследумыми параметрами"
   ]
  }
 ],
 "metadata": {
  "kernelspec": {
   "display_name": "Python 3",
   "language": "python",
   "name": "python3"
  },
  "language_info": {
   "codemirror_mode": {
    "name": "ipython",
    "version": 3
   },
   "file_extension": ".py",
   "mimetype": "text/x-python",
   "name": "python",
   "nbconvert_exporter": "python",
   "pygments_lexer": "ipython3",
   "version": "3.12.5"
  }
 },
 "nbformat": 4,
 "nbformat_minor": 2
}
