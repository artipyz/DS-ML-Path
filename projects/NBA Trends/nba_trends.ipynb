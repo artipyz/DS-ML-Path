{
 "cells": [
  {
   "cell_type": "markdown",
   "metadata": {},
   "source": [
    "# Задача\n",
    "\n",
    "Проанализировать данные из набора **nba_games.csv**"
   ]
  },
  {
   "cell_type": "code",
   "execution_count": 2,
   "metadata": {},
   "outputs": [
    {
     "name": "stdout",
     "output_type": "stream",
     "text": [
      "        game_id  year_id  fran_id      opp_fran game_location  is_playoffs  \\\n",
      "0  194611010TRH     1947   Knicks       Huskies             A            0   \n",
      "1  194611020CHS     1947   Knicks         Stags             A            0   \n",
      "2  194611020PRO     1947  Celtics  Steamrollers             A            0   \n",
      "3  194611050BOS     1947  Celtics         Stags             H            0   \n",
      "4  194611070STB     1947   Knicks       Bombers             A            0   \n",
      "\n",
      "   pts  opp_pts game_result  forecast  point_diff  \n",
      "0   68       66           W  0.359935           2  \n",
      "1   47       63           L  0.368899         -16  \n",
      "2   53       59           L  0.359935          -6  \n",
      "3   55       57           L  0.620204          -2  \n",
      "4   68       63           W  0.339290           5  \n"
     ]
    }
   ],
   "source": [
    "# импортируем библиотеки\n",
    "import pandas as pd\n",
    "import numpy as np\n",
    "from scipy.stats import chi2_contingency, pearsonr\n",
    "import matplotlib.pyplot as plt\n",
    "import seaborn as sns\n",
    "\n",
    "# укажем точность значений отображаемый библиотекой numpy\n",
    "np.set_printoptions(suppress=True, precision=2)\n",
    "\n",
    "# загружаем данные в переменную\n",
    "nba = pd.read_csv('nba_games.csv')\n",
    "\n",
    "# отобразим первые несколько строк набора данных\n",
    "print(nba.head())"
   ]
  },
  {
   "cell_type": "markdown",
   "metadata": {},
   "source": [
    "## Описание набора данных\n",
    "- game_id - уникальный идентификатор игры\n",
    "- year_id - идентификатор сезона, названный годом в котором сезон закончился\n",
    "- fran_id - идентификатор франшизы. Под одной франшизой могут выступать несколько команд\n",
    "- opp_fran - идентификатор франшизы опонента\n",
    "- game_location - H (Home), A (Away), N (Neutral)\n",
    "- is_playoffs - метка наличия playoff-а\n",
    "- pts - Points Scored by team Очки заработанные командой\n",
    "- opp_pts - Очки заработанные командой оппонента\n",
    "- game_result - W (Win) L (Loss)\n",
    "- forecast - Шансы на победу\n",
    "- point_diff - разница между переменными pts и opp_pts"
   ]
  },
  {
   "cell_type": "markdown",
   "metadata": {},
   "source": [
    "## Разделить набор данных\n",
    "Разделите набор данных на два набора\n",
    "- В одном будет храниться информация за 2010 год\n",
    "- Во втором за 2014"
   ]
  },
  {
   "cell_type": "code",
   "execution_count": 3,
   "metadata": {},
   "outputs": [
    {
     "name": "stdout",
     "output_type": "stream",
     "text": [
      "NBA 2010\n",
      "            game_id  year_id  fran_id      opp_fran game_location  \\\n",
      "21717  200910270CLE     2010  Celtics     Cavaliers             A   \n",
      "21718  200910280BOS     2010  Celtics       Hornets             H   \n",
      "21719  200910280MIA     2010   Knicks          Heat             A   \n",
      "21720  200910280MIN     2010     Nets  Timberwolves             A   \n",
      "21721  200910280OKC     2010  Thunder         Kings             H   \n",
      "\n",
      "       is_playoffs  pts  opp_pts game_result  forecast  point_diff  \n",
      "21717            0   95       89           W  0.277472           6  \n",
      "21718            0   92       59           W  0.814619          33  \n",
      "21719            0   93      115           L  0.258755         -22  \n",
      "21720            0   93       95           L  0.475155          -2  \n",
      "21721            0  102       89           W  0.716764          13  \n",
      "NBA 2014\n",
      "            game_id  year_id  fran_id   opp_fran game_location  is_playoffs  \\\n",
      "23468  201310300CLE     2014     Nets  Cavaliers             A            0   \n",
      "23469  201310300NYK     2014   Knicks      Bucks             H            0   \n",
      "23470  201310300SAS     2014    Spurs  Grizzlies             H            0   \n",
      "23471  201310300TOR     2014  Celtics    Raptors             A            0   \n",
      "23472  201310300UTA     2014  Thunder       Jazz             A            0   \n",
      "\n",
      "       pts  opp_pts game_result  forecast  point_diff  \n",
      "23468   94       98           L  0.611981          -4  \n",
      "23469   90       83           W  0.793150           7  \n",
      "23470  101       94           W  0.692980           7  \n",
      "23471   87       93           L  0.361233          -6  \n",
      "23472  101       98           W  0.526056           3  \n"
     ]
    }
   ],
   "source": [
    "# воспользуемся методами Pandas\n",
    "nba_2010 = nba[nba.year_id == 2010]\n",
    "nba_2014 = nba[nba.year_id == 2014]\n",
    "\n",
    "print('NBA 2010', nba_2010.head(), sep='\\n')\n",
    "print('NBA 2014', nba_2014.head(), sep='\\n')"
   ]
  },
  {
   "cell_type": "markdown",
   "metadata": {},
   "source": [
    "## Разбить набор данных 2010 года на два series по pts\n",
    "- В первом наборе будут данные fran_id **Knicks**\n",
    "- Второй набор fran_id **Nets**"
   ]
  },
  {
   "cell_type": "code",
   "execution_count": 4,
   "metadata": {},
   "outputs": [
    {
     "name": "stdout",
     "output_type": "stream",
     "text": [
      "21719     93\n",
      "21725    100\n",
      "21728    127\n",
      "21734    117\n",
      "21739     89\n",
      "        ... \n",
      "22102    105\n",
      "22110    103\n",
      "22116     98\n",
      "22118    114\n",
      "22126    113\n",
      "Name: pts, Length: 82, dtype: int64\n",
      "21720     93\n",
      "21727     85\n",
      "21730    104\n",
      "21733     68\n",
      "21738     94\n",
      "        ... \n",
      "22103     89\n",
      "22108    127\n",
      "22113    102\n",
      "22117     95\n",
      "22124     86\n",
      "Name: pts, Length: 82, dtype: int64\n"
     ]
    }
   ],
   "source": [
    "knicks_pts_10 = nba_2010[nba_2010.fran_id == 'Knicks'].pts\n",
    "nets_pts_10 = nba_2010[nba_2010.fran_id == 'Nets'].pts\n",
    "\n",
    "print(knicks_pts_10)\n",
    "print(nets_pts_10)"
   ]
  },
  {
   "cell_type": "markdown",
   "metadata": {},
   "source": [
    "## Расчитайте разницу между средними\n",
    "- Рассчитайте разницу между средними значениями pts между двумя франшизами\n",
    "- Ответьте на вопрос: как думаете связаны ли две переменные pts и fran_id и почему да или нет"
   ]
  },
  {
   "cell_type": "code",
   "execution_count": 5,
   "metadata": {},
   "outputs": [
    {
     "name": "stdout",
     "output_type": "stream",
     "text": [
      "9.731707317073173\n"
     ]
    }
   ],
   "source": [
    "diff_mean_2010 = knicks_pts_10.mean() - nets_pts_10.mean()\n",
    "print(diff_mean_2010)"
   ]
  },
  {
   "cell_type": "markdown",
   "metadata": {},
   "source": [
    "### Анализ результата\n",
    "- По полученному значению очень сложно сказать есть ли связь между двумя перменными\n",
    "- Судя по значению можно скажать что среднее значение pts франшизы Knicks выше на 9,73 пункта чем pts франшизы Nets\n",
    "- Однозначно описать связь не удается"
   ]
  },
  {
   "cell_type": "markdown",
   "metadata": {},
   "source": [
    "## Построить гистограмму перекрытия\n",
    "- Построить гистограмму перекрытия для двух переменных"
   ]
  },
  {
   "cell_type": "code",
   "execution_count": 6,
   "metadata": {},
   "outputs": [
    {
     "data": {
      "image/png": "[encoded data removed]",
      "text/plain": [
       "<Figure size 640x480 with 1 Axes>"
      ]
     },
     "metadata": {},
     "output_type": "display_data"
    }
   ],
   "source": [
    "plt.hist(knicks_pts_10, color='red', label = 'Knicks', density=True, alpha = 0.5)\n",
    "plt.hist(nets_pts_10, color='blue', label = 'Nets', density=True, alpha = 0.5)\n",
    "\n",
    "plt.legend()\n",
    "plt.show()\n",
    "plt.close()"
   ]
  },
  {
   "cell_type": "markdown",
   "metadata": {},
   "source": [
    "### Анализ графика\n",
    "- Судя по полученному графику и способу его анализа\n",
    "    - Оба распределения можно считать нормальными без смещения\n",
    "    - В виду наличия большого кол-ва перекрытий значений можно сказать что переменные fran_id и pts не взаимосвязаны между собой\n",
    "    "
   ]
  },
  {
   "cell_type": "markdown",
   "metadata": {},
   "source": [
    "## Сравните игры между 2010 и 2014 годами\n",
    "Повторить ранее сделанные шаги для 2010 года для набора данных 2014 года"
   ]
  },
  {
   "cell_type": "code",
   "execution_count": 8,
   "metadata": {},
   "outputs": [
    {
     "name": "stdout",
     "output_type": "stream",
     "text": [
      "0.44706798131809933\n"
     ]
    },
    {
     "data": {
      "image/png": "[encoded data removed]",
      "text/plain": [
       "<Figure size 640x480 with 1 Axes>"
      ]
     },
     "metadata": {},
     "output_type": "display_data"
    }
   ],
   "source": [
    "# Разбиваем набор данных на два\n",
    "knicks_pts_14 = nba_2014[nba_2014.fran_id == 'Knicks'].pts\n",
    "nets_pts_14 = nba_2014[nba_2014.fran_id == 'Nets'].pts\n",
    "\n",
    "# Рассчитываем разницу средних значений\n",
    "diff_mean_2014 = knicks_pts_14.mean() - nets_pts_14.mean()\n",
    "print(diff_mean_2014)\n",
    "\n",
    "plt.hist(knicks_pts_14, color='red', label='Knicks', density=True, alpha = 0.5)\n",
    "plt.hist(nets_pts_14, color='blue', label='Nets', density=True, alpha = 0.5)\n",
    "\n",
    "plt.legend()\n",
    "plt.show()\n",
    "plt.close()"
   ]
  }
 ],
 "metadata": {
  "kernelspec": {
   "display_name": "Python 3",
   "language": "python",
   "name": "python3"
  },
  "language_info": {
   "codemirror_mode": {
    "name": "ipython",
    "version": 3
   },
   "file_extension": ".py",
   "mimetype": "text/x-python",
   "name": "python",
   "nbconvert_exporter": "python",
   "pygments_lexer": "ipython3",
   "version": "3.12.5"
  }
 },
 "nbformat": 4,
 "nbformat_minor": 2
}
