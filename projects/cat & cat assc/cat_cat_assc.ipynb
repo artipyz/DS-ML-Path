{
 "cells": [
  {
   "cell_type": "markdown",
   "metadata": {},
   "source": [
    "# Задача\n",
    "У нас есть набор данных **npi_sample.csv**\n",
    "\n",
    "Данный набор даных представляет собой опрос с 5-ю вопросами\n",
    "\n",
    "Колонки набора данных (тип данных всех значений набора данных являются логическими, слева ответ положительный справа отрицательный):\n",
    "- influence - У меня есть талант влиять на людей / Я не очень хорошь во влиянии на людей\n",
    "- blend_in - Я предпочитаю сливаться с толпой / Я люблю быть в центре внимания\n",
    "- special - Я считаю себя особенным / Я не лучше и не хуже большинства людей\n",
    "- leader - Я считаю себя хорошим лидером / Я не уверен смог бы я стать хорошим лидером\n",
    "- authority - Мне нравится иметь авторитет над людьми / Я не против выполнять приказы\n",
    "\n",
    "## Задание\n",
    "- Составить кросстаблицу с кол-вом\n",
    "- Составить кросстаблицу с пропорцией\n",
    "- Расчитать маржиналью пропорцию\n",
    "- Составить таблицу ождаемых значений\n",
    "- Указать chi2 параметр"
   ]
  },
  {
   "cell_type": "code",
   "execution_count": 2,
   "metadata": {},
   "outputs": [
    {
     "name": "stdout",
     "output_type": "stream",
     "text": [
      "  influence blend_in special leader authority\n",
      "0        no      yes     yes    yes       yes\n",
      "1        no      yes      no     no        no\n",
      "2       yes       no     yes    yes       yes\n",
      "3       yes       no      no    yes       yes\n",
      "4       yes      yes      no    yes        no\n"
     ]
    }
   ],
   "source": [
    "# Импортируем библиотеки\n",
    "import pandas as pd\n",
    "from scipy.stats import chi2_contingency\n",
    "import numpy as np\n",
    "\n",
    "# Загружаем набор данных в переменную\n",
    "npi = pd.read_csv('npi_sample.csv')\n",
    "\n",
    "# Распечатываем пару строк набора данных\n",
    "print(npi.head())"
   ]
  },
  {
   "cell_type": "code",
   "execution_count": 4,
   "metadata": {},
   "outputs": [
    {
     "name": "stdout",
     "output_type": "stream",
     "text": [
      "special     no   yes\n",
      "blend_in            \n",
      "no        1221  2178\n",
      "yes       4753  2945\n",
      "special         no       yes\n",
      "blend_in                    \n",
      "no        0.110030  0.196269\n",
      "yes       0.428314  0.265387\n"
     ]
    }
   ],
   "source": [
    "# Для анализа возьмем две переменные blend_in и special\n",
    "# Составляем кросстаблицу\n",
    "cross_blend_special_freq = pd.crosstab(npi.blend_in, npi.special)\n",
    "print(cross_blend_special_freq)\n",
    "cross_blend_special_prop = cross_blend_special_freq / len(npi)\n",
    "print(cross_blend_special_prop)"
   ]
  },
  {
   "cell_type": "markdown",
   "metadata": {},
   "source": [
    "Судя по полученным результатам мы можем сказать\n",
    "- что люди которые считают себя особенными приблизительно в равной степень любят и не любят смешиваться с толпой\n",
    "- и напротив люди которые не считают себя особенными очень часто любят смешиваться с толпой"
   ]
  },
  {
   "cell_type": "code",
   "execution_count": 5,
   "metadata": {},
   "outputs": [
    {
     "name": "stdout",
     "output_type": "stream",
     "text": [
      "special\n",
      "no     0.538344\n",
      "yes    0.461656\n",
      "dtype: float64\n",
      "blend_in\n",
      "no     0.306299\n",
      "yes    0.693701\n",
      "dtype: float64\n"
     ]
    }
   ],
   "source": [
    "# Рассчитаем маржинальную пропорцию\n",
    "blend_in_marginal = cross_blend_special_prop.sum(axis=0)\n",
    "print(blend_in_marginal)\n",
    "special_marginal = cross_blend_special_prop.sum(axis=1)\n",
    "print(special_marginal)"
   ]
  },
  {
   "cell_type": "markdown",
   "metadata": {},
   "source": [
    "По полученным значениям можем сказать что:\n",
    "- приблизительно в равной степени все опрошенные люди считают себя особенными и обычными\n",
    "- но при этом большинство любит смешиваться с толпой"
   ]
  },
  {
   "cell_type": "code",
   "execution_count": 6,
   "metadata": {},
   "outputs": [
    {
     "name": "stdout",
     "output_type": "stream",
     "text": [
      "Исследуемые данные\n",
      "special     no   yes\n",
      "blend_in            \n",
      "no        1221  2178\n",
      "yes       4753  2945\n",
      "Ожидаемые значения\n",
      "[[1829.83022438 1569.16977562]\n",
      " [4144.16977562 3553.83022438]]\n"
     ]
    }
   ],
   "source": [
    "# Составим таблицу ожидаемых вероятностей и показатель chi2\n",
    "chi2, pval, dof, expected = chi2_contingency(cross_blend_special_freq)\n",
    "print('Исследуемые данные')\n",
    "print(cross_blend_special_freq)\n",
    "print(\"Ожидаемые значения\")\n",
    "print(expected)"
   ]
  },
  {
   "cell_type": "markdown",
   "metadata": {},
   "source": [
    "По полученным данным можно сказать что благодаря наглядной разнице между ожидаемыми и исследуемыми значениями между данными параметрами есть зависимость"
   ]
  },
  {
   "cell_type": "code",
   "execution_count": 7,
   "metadata": {},
   "outputs": [
    {
     "name": "stdout",
     "output_type": "stream",
     "text": [
      "Размер исследуемой таблицы 2 х 2 = 4\n",
      "Значение CHI2 631.5051574353496\n"
     ]
    }
   ],
   "source": [
    "# Посмотрим на значение chi2\n",
    "print('Размер исследуемой таблицы 2 х 2 = 4')\n",
    "print('Значение CHI2', chi2)"
   ]
  },
  {
   "cell_type": "markdown",
   "metadata": {},
   "source": [
    "Судя по показателю CHI2 и его огромной разницей между размером таблицы и самим показателем\n",
    "\n",
    "Можно с уверенностью сказать между данными параметрами есть взаимосвязь\n",
    "- Люди не считающие себя особенными в большей степени любят смешиваться с толпой\n",
    "- Люди считающие себя особенными приблизительно в равной сетпени любят и не любят смешиваться с толпой"
   ]
  }
 ],
 "metadata": {
  "kernelspec": {
   "display_name": "Python 3",
   "language": "python",
   "name": "python3"
  },
  "language_info": {
   "codemirror_mode": {
    "name": "ipython",
    "version": 3
   },
   "file_extension": ".py",
   "mimetype": "text/x-python",
   "name": "python",
   "nbconvert_exporter": "python",
   "pygments_lexer": "ipython3",
   "version": "3.12.5"
  }
 },
 "nbformat": 4,
 "nbformat_minor": 2
}
