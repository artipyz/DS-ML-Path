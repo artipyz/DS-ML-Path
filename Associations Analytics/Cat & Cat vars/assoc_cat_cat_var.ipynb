{
 "cells": [
  {
   "cell_type": "markdown",
   "metadata": {},
   "source": [
    "# Зависимость между двумя категорийными переменными\n"
   ]
  }
 ],
 "metadata": {
  "language_info": {
   "name": "python"
  }
 },
 "nbformat": 4,
 "nbformat_minor": 2
}
